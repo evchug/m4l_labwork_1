{
 "cells": [
  {
   "cell_type": "code",
   "execution_count": 1,
   "metadata": {},
   "outputs": [],
   "source": [
    "def loadDependencyTree(filename):\n",
    "    with open(filename, encoding='utf-8') as file: # читаем файл\n",
    "        lines = file.read().split('\\n') # делим файл по строкам\n",
    "    words = [line.split('\\t') for line in lines[:-1] if line != '' and not line.startswith('#')] \n",
    "    # если строка не пустая и не начинаеся со знака \"#\", делим ее по \\t для создания массива слов \n",
    "    \n",
    "    tokens = [w[0] + '. ' + w[2] for w in words] # формируем массив узлов (индекс. словарная форма слова) для всех слов\n",
    "    nodes = [('0. root', [])] # корень - нулевая вершина\n",
    "    nodes.extend([(t, []) for t in tokens]) # добавляем узлы к корню\n",
    "    root_no = -1\n",
    "    \n",
    "    for i, word in enumerate(words):\n",
    "        nodes[int(word[6])][1].append(nodes[i+1])\n",
    "    # формируем массив узлов, где каждое слово помещается в список детей родителя, индекс которого указан на 6 позиции\n",
    "    \n",
    "    return nodes"
   ]
  },
  {
   "cell_type": "code",
   "execution_count": 5,
   "metadata": {
    "scrolled": false
   },
   "outputs": [],
   "source": [
    "tree = loadDependencyTree('data.conllu')"
   ]
  },
  {
   "cell_type": "code",
   "execution_count": 6,
   "metadata": {},
   "outputs": [],
   "source": [
    "def printTree(node, shift = 0): # добавляем к дереву отступы для наглядности\n",
    "    print(' '*shift, node[0])\n",
    "    for child in node[1]:\n",
    "        printTree(child, shift +2)"
   ]
  },
  {
   "cell_type": "code",
   "execution_count": null,
   "metadata": {
    "scrolled": true
   },
   "outputs": [],
   "source": [
    "printTree(tree[0])"
   ]
  }
 ],
 "metadata": {
  "kernelspec": {
   "display_name": "Python 3",
   "language": "python",
   "name": "python3"
  },
  "language_info": {
   "codemirror_mode": {
    "name": "ipython",
    "version": 3
   },
   "file_extension": ".py",
   "mimetype": "text/x-python",
   "name": "python",
   "nbconvert_exporter": "python",
   "pygments_lexer": "ipython3",
   "version": "3.7.5"
  }
 },
 "nbformat": 4,
 "nbformat_minor": 4
}
